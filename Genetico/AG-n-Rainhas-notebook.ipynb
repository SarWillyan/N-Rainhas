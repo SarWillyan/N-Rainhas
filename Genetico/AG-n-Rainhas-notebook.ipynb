{
 "cells": [
  {
   "cell_type": "code",
   "execution_count": null,
   "metadata": {},
   "outputs": [],
   "source": [
    "%pip install deap"
   ]
  },
  {
   "cell_type": "markdown",
   "metadata": {},
   "source": [
    "Instalar a diblioteca DEAP\n",
    "\n",
    "pip install deap"
   ]
  },
  {
   "attachments": {
    "image.png": {
     "image/png": "[encoded data removed]"
    }
   },
   "cell_type": "markdown",
   "metadata": {},
   "source": [
    "![image.png](attachment:image.png)"
   ]
  },
  {
   "cell_type": "markdown",
   "metadata": {},
   "source": [
    "## Cromossomo\n",
    "\n",
    "### Binário:\n",
    "[001 011 101 111 010 000 110 100]\n",
    "\n",
    "### Real:\n",
    "[1 3 5 7 2 0 6 4]\n"
   ]
  },
  {
   "cell_type": "code",
   "execution_count": null,
   "metadata": {},
   "outputs": [],
   "source": [
    "%pip install matplotlib tqdm"
   ]
  },
  {
   "cell_type": "code",
   "execution_count": 1,
   "metadata": {
    "scrolled": true
   },
   "outputs": [],
   "source": [
    "import numpy as np\n",
    "import random\n",
    "from deap import creator, base, tools, algorithms\n",
    "import matplotlib.pyplot as plt\n",
    "import matplotlib.patches as patches"
   ]
  },
  {
   "cell_type": "code",
   "execution_count": 2,
   "metadata": {},
   "outputs": [],
   "source": [
    "#N = Número de rainhas\n",
    "N = 8\n",
    "#log_N = número de bits para representar cada rainha\n",
    "log_N = int(np.log2(N))\n",
    "\n",
    "\n",
    "#Funções extraídas do código original do livro\n",
    "#https://github.com/aimacode/aima-python\n",
    "def conflicted(state, row, col):\n",
    "    \"\"\"Colocar uma rainha em (linha, coluna) causaria algum conflito?\"\"\"\n",
    "    return any(conflict(row, col, state[c], c)\n",
    "               for c in range(col))\n",
    "\n",
    "def conflict(row1, col1, row2, col2):\n",
    "    \"\"\"Colocar duas rainhas em (linha1, coluna1) e (linha2, coluna2) causaria conflito?\"\"\"\n",
    "    return (row1 == row2 or  # same row\n",
    "            col1 == col2 or  # same column\n",
    "            row1 - col1 == row2 - col2 or  # same \\ diagonal\n",
    "            row1 + col1 == row2 + col2)  # same / diagonal\n",
    "\n",
    "def goal_test(state):\n",
    "    \"\"\"Verificar se todas as colunas estão preenchidas sem conflitos.\"\"\"\n",
    "    if state[-1] == -1:\n",
    "        return False\n",
    "    return not any(conflicted(state, state[col], col)\n",
    "                   for col in range(len(state)))\n",
    "\n",
    "def h(node):\n",
    "    \"\"\"Retornar o número de rainhas em conflito para um determinado nó\"\"\"\n",
    "    num_conflicts = 0\n",
    "    for (r1, c1) in enumerate(node):\n",
    "        for (r2, c2) in enumerate(node):\n",
    "            if (r1, c1) != (r2, c2):\n",
    "                num_conflicts += conflict(r1, c1, r2, c2)\n",
    "    return num_conflicts\n",
    "\n",
    "def nqueen_fitness(node):\n",
    "    node_int = []\n",
    "    for i in range(0, len(node), log_N):\n",
    "        a = map(str, node[i:i+log_N])    \n",
    "        node_int.append(int(''.join(a), 2))\n",
    "\n",
    "    return h(node_int),\n",
    "    \n",
    "def plot_solution(solution, N):\n",
    "    fig = plt.figure()\n",
    "    ax = fig.add_subplot(111, aspect='equal')\n",
    "    ax.set_xlim((0, N))\n",
    "    ax.set_ylim((0, N))\n",
    "\n",
    "    # Adicionar quadriculado\n",
    "    for i in range(N):\n",
    "        for j in range(N):\n",
    "            color = 'white' if (i + j) % 2 == 0 else 'black'\n",
    "            ax.add_patch(patches.Rectangle((j, i), 1, 1, color=color))\n",
    "    \n",
    "    count = 0\n",
    "    for queen in solution:\n",
    "        ax.add_patch(patches.Circle((queen + 0.5, count + 0.5), radius=0.4, fill=True, color='red'))\n",
    "        count += 1\n",
    "    plt.show()"
   ]
  },
  {
   "cell_type": "code",
   "execution_count": 4,
   "metadata": {
    "scrolled": true
   },
   "outputs": [
    {
     "data": {
      "text/plain": [
       "True"
      ]
     },
     "execution_count": 4,
     "metadata": {},
     "output_type": "execute_result"
    }
   ],
   "source": [
    "goal_test([2,4,6,8,3,1,7,4])"
   ]
  },
  {
   "cell_type": "code",
   "execution_count": 10,
   "metadata": {},
   "outputs": [
    {
     "data": {
      "text/plain": [
       "8"
      ]
     },
     "execution_count": 10,
     "metadata": {},
     "output_type": "execute_result"
    }
   ],
   "source": [
    "h([2,2,6,7,3,1,7,4])"
   ]
  },
  {
   "cell_type": "code",
   "execution_count": 11,
   "metadata": {},
   "outputs": [],
   "source": [
    "#Cria ferramenta de geração de indivíduos\n",
    "creator.create(\"Fitness\", base.Fitness, weights=(-1.0, )) #Peso -1 por ser um problema de minimização\n",
    "\n",
    "#Cada indíviduo é composto por um cromossomo que é uma lista de valores\n",
    "creator.create(\"Individual\", list, fitness=creator.Fitness)"
   ]
  },
  {
   "cell_type": "code",
   "execution_count": 12,
   "metadata": {},
   "outputs": [],
   "source": [
    "#Toolbox é onde definiremos os operadores para a execução\n",
    "toolbox = base.Toolbox()\n",
    "\n",
    "#Função para criação do cromossomo\n",
    "#x = 0|1\n",
    "toolbox.register(\"attr_bool\", random.randint, 0, 1) #np.random.randint(0,1)\n",
    "#Função para Definir a criação do indivíduo. Será feita a repetição da função attr_bool por n vezes\n",
    "#cromossomo = [x, x, x, x, ..., x]     len(cromossomo) = n\n",
    "toolbox.register(\"individual\", tools.initRepeat, creator.Individual, toolbox.attr_bool, n=N*log_N)\n",
    "#Função para criar população. Repetição de indivíduos para formar uma lista\n",
    "toolbox.register(\"population\", tools.initRepeat, list, toolbox.individual)"
   ]
  },
  {
   "cell_type": "code",
   "execution_count": 13,
   "metadata": {},
   "outputs": [],
   "source": [
    "#função de avaliação\n",
    "toolbox.register(\"evaluate\", nqueen_fitness)\n",
    "#função de cruzamento\n",
    "toolbox.register(\"mate\", tools.cxOnePoint)\n",
    "#função de mutação\n",
    "#indpb probabilidade de mutação em bit\n",
    "toolbox.register(\"mutate\", tools.mutFlipBit, indpb=0.1)\n",
    "#função de seleção\n",
    "\"\"\"\n",
    "tournsize quantidade de individuos selecionados aleatoriamente\n",
    "para participar do torneio para se tornar o pai da proxima geração\n",
    "\"\"\"\n",
    "toolbox.register(\"select\", tools.selTournament, tournsize=11)"
   ]
  },
  {
   "cell_type": "markdown",
   "metadata": {},
   "source": [
    "Operadores do framework DEAP\n",
    "\n",
    "https://deap.readthedocs.io/en/master/api/tools.html"
   ]
  },
  {
   "cell_type": "code",
   "execution_count": 14,
   "metadata": {},
   "outputs": [],
   "source": [
    "#Cria uma população de tamanho 1\n",
    "\"\"\"\n",
    "É comum em algoritmos genéticos, onde você começa com uma \n",
    "pequena população inicial e, em seguida, a população cresce \n",
    "e evolui ao longo das gerações.\n",
    "\"\"\"\n",
    "population = toolbox.population(n=1)"
   ]
  },
  {
   "cell_type": "code",
   "execution_count": 15,
   "metadata": {
    "scrolled": true
   },
   "outputs": [
    {
     "data": {
      "text/plain": [
       "24"
      ]
     },
     "execution_count": 15,
     "metadata": {},
     "output_type": "execute_result"
    }
   ],
   "source": [
    "len(population[0])"
   ]
  },
  {
   "cell_type": "code",
   "execution_count": 16,
   "metadata": {},
   "outputs": [
    {
     "data": {
      "text/plain": [
       "(10,)"
      ]
     },
     "execution_count": 16,
     "metadata": {},
     "output_type": "execute_result"
    }
   ],
   "source": [
    "nqueen_fitness(population[0])"
   ]
  },
  {
   "cell_type": "code",
   "execution_count": 19,
   "metadata": {},
   "outputs": [
    {
     "name": "stderr",
     "output_type": "stream",
     "text": [
      " 64%|██████▍   | 32/50 [00:00<00:00, 35.43it/s]"
     ]
    },
    {
     "name": "stdout",
     "output_type": "stream",
     "text": [
      "Melhor individuo '[0, 1, 1, 1, 1, 1, 1, 0, 0, 0, 1, 0, 0, 0, 0, 1, 1, 0, 0, 0, 1, 1, 0, 1]' contem (0,) conflitos \n"
     ]
    },
    {
     "name": "stderr",
     "output_type": "stream",
     "text": [
      "\n"
     ]
    }
   ],
   "source": [
    "from tqdm import tqdm\n",
    "#Inicia população con n indivíduos\n",
    "population = toolbox.population(n=500)\n",
    "\n",
    "#Número máximo de gerações\n",
    "NGEN=50\n",
    "\n",
    "#Avalia todos os indivíduos\n",
    "fits = toolbox.map(toolbox.evaluate, population)\n",
    "for fit, ind in zip(fits, population):\n",
    "    ind.fitness.values = fit\n",
    "    \n",
    "    \n",
    "avg = []\n",
    "tops = []\n",
    "worsts = []\n",
    "\n",
    "for gen in tqdm(range(NGEN)):\n",
    "    #Faz seleção\n",
    "    population = toolbox.select(population, k=len(population))\n",
    "    #Faz o cruzamento e mutação\n",
    "    #cxpb = probabilidade de cruzamento\n",
    "    #mutpb = probabilidade de mutação\n",
    "    offspring = algorithms.varAnd(population, toolbox, cxpb=0.8, mutpb=0.05)\n",
    "    \n",
    "    #Reavalia a nova geração\n",
    "    avg_h = 0\n",
    "    fits = toolbox.map(toolbox.evaluate, offspring) \n",
    "    for fit, ind in zip(fits, offspring):\n",
    "        avg_h += fit[0]\n",
    "        ind.fitness.values = fit\n",
    "        \n",
    "    #nova população vão ser os filhos\n",
    "    population[:] = offspring\n",
    "        \n",
    "    #pega melhor e pior indivíduos para montar o gráfico\n",
    "    top = tools.selBest(population, k=1)\n",
    "    worst = tools.selWorst(population, k=1)\n",
    "    \n",
    "    #calcula a média da população \n",
    "    avg_h = avg_h/len(population)\n",
    "    #pega a quantidade de conflitos do melhor e pior individuo \n",
    "    top_h = nqueen_fitness(top[0])[0]\n",
    "    worst_h = nqueen_fitness(worst[0])[0]\n",
    "\n",
    "    #adiciona nas listas os dados obtidos da atual geração\n",
    "    avg.append(avg_h)\n",
    "    tops.append(top_h)\n",
    "    worsts.append(worst_h)\n",
    "    \n",
    "    \n",
    "    #Avalia critério de parada\n",
    "    if(nqueen_fitness(top[0])[0] == 0): break\n",
    "        \n",
    "print(f'Melhor individuo \\'{top[0]}\\' contem {nqueen_fitness(top[0])} conflitos ')"
   ]
  },
  {
   "cell_type": "code",
   "execution_count": 20,
   "metadata": {},
   "outputs": [
    {
     "name": "stdout",
     "output_type": "stream",
     "text": [
      "Melhor individuo contem : (0,) conflitos\n"
     ]
    }
   ],
   "source": [
    "print(f'Melhor individuo contem : {nqueen_fitness(top[0])} conflitos')"
   ]
  },
  {
   "cell_type": "code",
   "execution_count": 21,
   "metadata": {},
   "outputs": [
    {
     "data": {
      "image/png": "[encoded data removed]",
      "text/plain": [
       "<Figure size 640x480 with 1 Axes>"
      ]
     },
     "metadata": {},
     "output_type": "display_data"
    }
   ],
   "source": [
    "node_int = []\n",
    "for i in range(0, len(top[0]), log_N):\n",
    "    a = map(str, top[0][i:i+log_N])    \n",
    "    node_int.append(int(''.join(a), 2))\n",
    "    \n",
    "plot_solution(node_int, N)"
   ]
  },
  {
   "cell_type": "code",
   "execution_count": 22,
   "metadata": {},
   "outputs": [
    {
     "data": {
      "image/png": "[encoded data removed]",
      "text/plain": [
       "<Figure size 640x480 with 1 Axes>"
      ]
     },
     "metadata": {},
     "output_type": "display_data"
    }
   ],
   "source": [
    "plt.plot(avg, c='g')\n",
    "plt.plot(tops, c='b')\n",
    "plt.plot(worsts, c='r')\n",
    "plt.show()"
   ]
  },
  {
   "cell_type": "code",
   "execution_count": null,
   "metadata": {},
   "outputs": [],
   "source": [
    "print(node_int)"
   ]
  },
  {
   "cell_type": "code",
   "execution_count": null,
   "metadata": {},
   "outputs": [],
   "source": []
  }
 ],
 "metadata": {
  "kernelspec": {
   "display_name": "Python 3 (ipykernel)",
   "language": "python",
   "name": "python3"
  },
  "language_info": {
   "codemirror_mode": {
    "name": "ipython",
    "version": 3
   },
   "file_extension": ".py",
   "mimetype": "text/x-python",
   "name": "python",
   "nbconvert_exporter": "python",
   "pygments_lexer": "ipython3",
   "version": "3.11.4"
  }
 },
 "nbformat": 4,
 "nbformat_minor": 2
}
